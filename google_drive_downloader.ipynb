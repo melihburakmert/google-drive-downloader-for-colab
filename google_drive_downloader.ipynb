{
  "nbformat": 4,
  "nbformat_minor": 0,
  "metadata": {
    "colab": {
      "provenance": []
    },
    "kernelspec": {
      "name": "python3",
      "display_name": "Python 3"
    },
    "language_info": {
      "name": "python"
    }
  },
  "cells": [
    {
      "cell_type": "markdown",
      "source": [
        "# Google Drive Downloader For Google Colab\n",
        "\n",
        "This notebook allows you to download a revision of a file from Google Drive to your Google Colab workspace.\n",
        "\n",
        "Normally, when you mount your drive into your runner, file revisions are not visible on the list, therefore you cannot copy the file to your workspace directly.\n",
        "\n",
        "You can access the revision by using downloadLink through Drive console, however, to download directly into your workspace via HTTP,  you need to be authenticated.\n",
        "\n",
        "Also you will be out-of-memory if you try to download the files larger than your runner's memory.\n",
        "\n",
        "The notebook allows you to see your files and revisions, goes through required authentication steps and downloads the file in chunks.\n",
        "\n",
        "## Prerequistes\n",
        "\n",
        "Have a look at the [references](##References) first.\n",
        "\n",
        "1. Create a project under Google Cloud Console https://console.cloud.google.com/\n",
        "2. Create OAuth client ID in https://console.cloud.google.com/apis/credentials\n",
        "- Create consent screen if you don't have yet https://console.cloud.google.com/apis/credentials/consent\n",
        "- Add your user email under test users\n",
        "- On create client id page:\n",
        " - Application type: Web application\n",
        " - Authorised redirect URIs: http://localhost:8081/\n",
        "3. Download client secrets json, upload to your workspace.\n",
        "\n",
        "## References\n",
        "\n",
        "- https://support.google.com/cloud/answer/6158849?hl=en\n",
        "- https://developers.google.com/identity/protocols/oauth2"
      ],
      "metadata": {
        "id": "w2jHwxmcNWCq"
      }
    },
    {
      "cell_type": "code",
      "source": [
        "#@title Install the requirements\n",
        "\n",
        "!pip install -r requirements.txt"
      ],
      "metadata": {
        "cellView": "form",
        "id": "iri1jpNQnvDv"
      },
      "execution_count": null,
      "outputs": []
    },
    {
      "cell_type": "code",
      "source": [
        "#@title Get the authorization code\n",
        "\n",
        "import requests\n",
        "import webbrowser\n",
        "import json\n",
        "\n",
        "client_secret_file = \"client_secret.json\" #@param {type:\"string\"}\n",
        "\n",
        "f = open(client_secret_file, 'r')\n",
        "client_secrets = json.load(f)['web']\n",
        "\n",
        "authorization_url = client_secrets['auth_uri']\n",
        "token_url = client_secrets['token_uri']\n",
        "client_id = client_secrets['client_id']\n",
        "client_secret = client_secrets['client_secret']\n",
        "redirect_uri = client_secrets['redirect_uris'][0]\n",
        "scope = 'https://www.googleapis.com/auth/drive'\n",
        "response_type = 'code'\n",
        "\n",
        "# Construct the authorization URL\n",
        "authorization_params = {\n",
        "    'client_id': client_id,\n",
        "    'redirect_uri': redirect_uri,\n",
        "    'scope': scope,\n",
        "    'response_type': response_type\n",
        "}\n",
        "authorization_url = f'{authorization_url}?{\"&\".join(f\"{k}={v}\" for k, v in authorization_params.items())}'\n",
        "\n",
        "print(\"Visit the returned URL and copy the authorizarion code:\", authorization_url)\n"
      ],
      "metadata": {
        "cellView": "form",
        "id": "Gs4zKNTuSlml"
      },
      "execution_count": null,
      "outputs": []
    },
    {
      "cell_type": "code",
      "source": [
        "#@title Exchange authorization code for credentials\n",
        "\n",
        "from google_auth_oauthlib.flow import Flow\n",
        "import os \n",
        "\n",
        "os.environ['OAUTHLIB_INSECURE_TRANSPORT'] = '1'\n",
        "\n",
        "authorization_code = '4/0###' #@param {type:\"string\"}\n",
        "\n",
        "# Set up the OAuth 2.0 flow for web applications\n",
        "flow = Flow.from_client_secrets_file(\n",
        "    client_secret_file,\n",
        "    scopes=[scope],\n",
        "    redirect_uri=redirect_uri\n",
        ")\n",
        "\n",
        "flow.fetch_token(code=authorization_code)\n",
        "credentials = flow.credentials"
      ],
      "metadata": {
        "cellView": "form",
        "id": "ivr9bnOwa0I7"
      },
      "execution_count": null,
      "outputs": []
    },
    {
      "cell_type": "code",
      "source": [
        "#@title List all files in drive\n",
        "\n",
        "from googleapiclient.discovery import build\n",
        "\n",
        "service = build('drive', 'v3', credentials=credentials)\n",
        "\n",
        "response = service.files().list().execute()\n",
        "files = response.get('files', [])\n",
        "\n",
        "if files:\n",
        "    for file in files:\n",
        "        print(file)\n",
        "else:\n",
        "    print('No files found.')"
      ],
      "metadata": {
        "cellView": "form",
        "id": "P7cL7Nscr7eP"
      },
      "execution_count": null,
      "outputs": []
    },
    {
      "cell_type": "code",
      "source": [
        "#@title Get revisions of a file\n",
        "file_id = '###' #@param {type:\"string\"}\n",
        "\n",
        "response = service.revisions().list(fileId=file_id).execute()\n",
        "revisions = response.get('revisions', [])\n",
        "\n",
        "if revisions:\n",
        "    for rev in revisions:\n",
        "        print(rev)\n",
        "else:\n",
        "    print('No revisions found.')"
      ],
      "metadata": {
        "cellView": "form",
        "id": "5Xy9Q2Rg9DHz"
      },
      "execution_count": null,
      "outputs": []
    },
    {
      "cell_type": "code",
      "source": [
        "#@title Get file size and name for a revision\n",
        "revision_id = '###' #@param {type:\"string\"}\n",
        "\n",
        "revision = service.revisions().get(\n",
        "    fileId=file_id,\n",
        "    revisionId=revision_id,\n",
        "    fields='size, originalFilename'\n",
        ").execute()\n",
        "\n",
        "file_size = revision.get('size')\n",
        "file_name = revision.get('originalFileName', 'untitled')\n",
        "\n",
        "if file_size:\n",
        "    print(f'File Size for {file_name}: {file_size} bytes')\n",
        "else:\n",
        "    print('File size not available for this revision.')"
      ],
      "metadata": {
        "cellView": "form",
        "id": "ctppaqGb-SL0"
      },
      "execution_count": null,
      "outputs": []
    },
    {
      "cell_type": "code",
      "source": [
        "#@title Exchange authorization code for an access token\n",
        "\n",
        "#@markdown [Generate](#scrollTo=Gs4zKNTuSlml&line=1&uniqifier=1) a new authorization code.\n",
        "\n",
        "new_authorization_code = '4/0###' #@param {type:\"string\"}\n",
        "\n",
        "token_data = {\n",
        "    'code': new_authorization_code,\n",
        "    'client_id': client_id,\n",
        "    'client_secret': client_secret,\n",
        "    'redirect_uri': redirect_uri,\n",
        "    'grant_type': 'authorization_code'\n",
        "}\n",
        "\n",
        "token_response = requests.post(token_url, data=token_data)\n",
        "access_token = token_response.json()['access_token']\n",
        "print(access_token)"
      ],
      "metadata": {
        "cellView": "form",
        "id": "d1JZN4FSXjED"
      },
      "execution_count": null,
      "outputs": []
    },
    {
      "cell_type": "code",
      "source": [
        "#@title Download the file in chunks\n",
        "\n",
        "# Check existing file. If file exists, continue from where it left\n",
        "import sys\n",
        "\n",
        "file_root = './' #@param {type:\"string\"}\n",
        "chunk_size = 10240 #@param {type:\"integer\"}\n",
        "\n",
        "file_path = os.path.join(file_root, file_name) \n",
        "process = {}\n",
        "\n",
        "if os.path.exists(file_path):\n",
        "    process[\"start_byte\"] = os.path.getsize(file_path)\n",
        "    process[\"mode\"] = \"ab\"\n",
        "    process[\"download\"] = \"As resume\"\n",
        "else:\n",
        "    process[\"start_byte\"] = 0\n",
        "    process[\"mode\"] = \"wb\"\n",
        "    process[\"download\"] = \"As a new file\"\n",
        "if process[\"start_byte\"] == file_size:\n",
        "    sys.exit(\"The download of this file has already been finished.\")\n",
        "\n",
        "# Download process\n",
        "print(process[\"download\"])\n",
        "headers = {\n",
        "    \"Authorization\": f\"Bearer {access_token}\",\n",
        "    \"Range\": f'bytes={process[\"start_byte\"]}-',\n",
        "}\n",
        "url = f\"https://www.googleapis.com/drive/v2/files/{file_id}?revisionId={revision_id}&alt=media&source=downloadUrl\"\n",
        "with requests.get(url, headers=headers, stream=True) as r:\n",
        "    r.raise_for_status()\n",
        "    with open(file_path, process[\"mode\"]) as f:\n",
        "        for chunk in r.iter_content(chunk_size=chunk_size):\n",
        "            f.write(chunk)"
      ],
      "metadata": {
        "id": "5m0Vjsk3Yjrl"
      },
      "execution_count": null,
      "outputs": []
    }
  ]
}